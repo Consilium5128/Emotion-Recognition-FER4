{
  "nbformat": 4,
  "nbformat_minor": 0,
  "metadata": {
    "colab": {
      "name": "Copy of Pre-processing(1).ipynb",
      "provenance": []
    },
    "kernelspec": {
      "name": "python3",
      "display_name": "Python 3"
    }
  },
  "cells": [
    {
      "cell_type": "code",
      "metadata": {
        "id": "AO-odFsgVA0-",
        "colab_type": "code",
        "outputId": "cbda58eb-8f81-436f-a40d-f2467227a7b2",
        "colab": {
          "base_uri": "https://localhost:8080/",
          "height": 35
        }
      },
      "source": [
        "from zipfile import ZipFile\n",
        "file_name = \"CK+48.zip\"\n",
        "with ZipFile(file_name,'r') as zip:\n",
        "  zip.extractall()\n",
        "  print('Done')\n"
      ],
      "execution_count": 0,
      "outputs": [
        {
          "output_type": "stream",
          "text": [
            "Done\n"
          ],
          "name": "stdout"
        }
      ]
    },
    {
      "cell_type": "code",
      "metadata": {
        "id": "nUVZshFYWxhn",
        "colab_type": "code",
        "outputId": "5ad44af2-80cf-4f87-f9e2-97a612e5c2d0",
        "colab": {
          "base_uri": "https://localhost:8080/",
          "height": 35
        }
      },
      "source": [
        "import cv2\n",
        "import glob\n",
        "import numpy as np\n",
        "import dlib\n",
        "import matplotlib.pyplot as plt\n",
        "import os\n",
        "print(os.listdir(\"CK+48\"))"
      ],
      "execution_count": 0,
      "outputs": [
        {
          "output_type": "stream",
          "text": [
            "['sadness', 'surprise', 'anger', 'fear', 'contempt', 'disgust', 'happy']\n"
          ],
          "name": "stdout"
        }
      ]
    },
    {
      "cell_type": "code",
      "metadata": {
        "id": "XA_FywXbXBTw",
        "colab_type": "code",
        "colab": {}
      },
      "source": [
        "#data_path = 'CK+48'\n",
        "#data_dir_list = os.listdir(data_path)\n",
        "#img_data_list = []\n",
        "#for dataset in data_dir_list:\n",
        "  #img_list = os.listdir(data_path+'/'+dataset)\n",
        "  #print('Loaded the images of dataset-'+'{}\\n'.format(dataset))\n",
        "  #for img in img_list:\n",
        "    #input_img = cv2.imread(data_path + '/' + dataset+ '/'+img)\n",
        "    #face_cascade = cv2.CascadeClassifier('haarcascade_frontalface_default.xml')\n",
        "    #gray = cv2.cvtColor(input_img,cv2.COLOR_BGR2GRAY)\n",
        "    #input_image_resize = cv2.resize(gray,(48,48))\n",
        "    #img_data_list.append(input_image_resize)\n",
        "  #print(img_data_list)\n",
        "#img_data = np.array(img_data_list)\n",
        "#img_data = img_data.astype('float32')\n",
        "#img_data = img_data/255\n",
        "#img_data.shape"
      ],
      "execution_count": 0,
      "outputs": []
    },
    {
      "cell_type": "code",
      "metadata": {
        "id": "VaLegx7IoDgs",
        "colab_type": "code",
        "colab": {}
      },
      "source": [
        "path_lists = []\n",
        "matrix_lists = []\n",
        "for folder_name in os.listdir('/content/CK+48'):\n",
        "  path_1 = os.path.join('/content/CK+48',folder_name)\n",
        "  for file_name in os.listdir(path_1):\n",
        "    path_2 = os.path.join(path_1,file_name)\n",
        "    if os.path.isfile(path_2):\n",
        "      path_lists.append(path_2)\n",
        "      image = cv2.imread(path_2)\n",
        "      matrix_lists.append(image)\n",
        "print(matrix_lists)"
      ],
      "execution_count": 0,
      "outputs": []
    },
    {
      "cell_type": "code",
      "metadata": {
        "id": "Vf746rDlGEoo",
        "colab_type": "code",
        "outputId": "84b70851-9c47-44dd-b393-4fdeb9c4ca5c",
        "colab": {
          "base_uri": "https://localhost:8080/",
          "height": 269
        }
      },
      "source": [
        "#frontal face detection\n",
        "face_cascade = cv2.CascadeClassifier('haarcascade_frontalface_default.xml')\n",
        "img = cv2.imread(path_lists[0])\n",
        "gray = cv2.cvtColor(img,cv2.COLOR_BGR2GRAY)\n",
        "faces = face_cascade.detectMultiScale(gray,1.3,5,minSize=(100,100))\n",
        "x=y=w=h=0\n",
        "for (i,j,k,l) in faces:\n",
        "  cv2.rectangle(img,(i,j),(i+k,j+l),(0,0,255),10)\n",
        "  x = i\n",
        "  y = j\n",
        "  w = k\n",
        "  h = l\n",
        "  break\n",
        "plt.grid(None)\n",
        "plt.xticks([])\n",
        "plt.yticks([])\n",
        "imgplot = plt.imshow(img)\n",
        "cropped_img = gray[y:y+h,x:x+w]\n",
        "plt.imshow(img)\n"
      ],
      "execution_count": 0,
      "outputs": [
        {
          "output_type": "execute_result",
          "data": {
            "text/plain": [
              "<matplotlib.image.AxesImage at 0x7ff1f3bc1b70>"
            ]
          },
          "metadata": {
            "tags": []
          },
          "execution_count": 6
        },
        {
          "output_type": "display_data",
          "data": {
            "image/png": "[encoded data removed]",
            "text/plain": [
              "<Figure size 432x288 with 1 Axes>"
            ]
          },
          "metadata": {
            "tags": []
          }
        }
      ]
    },
    {
      "cell_type": "code",
      "metadata": {
        "id": "O-xE6rIeDu6K",
        "colab_type": "code",
        "colab": {}
      },
      "source": [
        "#face_cascade = cv2.CascadeClassifier('haarcascade_frontalface_default.xml')\n",
        "#eye_cascade = cv2.CascadeClassifier('haarcascade_eye.xml')"
      ],
      "execution_count": 0,
      "outputs": []
    },
    {
      "cell_type": "code",
      "metadata": {
        "id": "leK30C2BEVPd",
        "colab_type": "code",
        "colab": {}
      },
      "source": [
        "#for i in range(len(path_lists)):\n",
        "  #img = cv2.imread(path_lists[i])\n"
      ],
      "execution_count": 0,
      "outputs": []
    },
    {
      "cell_type": "code",
      "metadata": {
        "id": "SojF96_Lzdom",
        "colab_type": "code",
        "outputId": "f039286c-f596-4b02-df2a-8e07b185c95a",
        "colab": {
          "base_uri": "https://localhost:8080/",
          "height": 35
        }
      },
      "source": [
        "face_cascade = cv2.CascadeClassifier('haarcascade_frontalface_default.xml')\n",
        "eye_cascade = cv2.CascadeClassifier('haarcascade_eye.xml')\n",
        "img = cv2.imread(path_lists[0])\n",
        "gray = cv2.cvtColor(img,cv2.COLOR_BGR2GRAY)\n",
        "faces = face_cascade.detectMultiScale(gray,1.1,4)\n",
        "print(faces)"
      ],
      "execution_count": 0,
      "outputs": [
        {
          "output_type": "stream",
          "text": [
            "[[ 4  2 41 41]]\n"
          ],
          "name": "stdout"
        }
      ]
    },
    {
      "cell_type": "code",
      "metadata": {
        "id": "5Q8RHuv3t__6",
        "colab_type": "code",
        "outputId": "a4e01c94-7eb6-41fa-898a-53f31e324ca2",
        "colab": {
          "base_uri": "https://localhost:8080/",
          "height": 300
        }
      },
      "source": [
        "for (x,y,w,h) in faces:\n",
        "  cv2.rectangle(img,(x,y),(x+w,y+h),(0,0,255),10)\n",
        "#plt.grid(None)\n",
        "plt.xticks([4,41])\n",
        "plt.yticks([2,41])\n",
        "imgplot = plt.imshow(img)\n",
        "print(x,y,x+w,y+h)\n",
        "cropped_img = gray[y:y+h,x:x+w]\n",
        "plt.imshow(cropped_img)"
      ],
      "execution_count": 0,
      "outputs": [
        {
          "output_type": "stream",
          "text": [
            "4 2 45 43\n"
          ],
          "name": "stdout"
        },
        {
          "output_type": "execute_result",
          "data": {
            "text/plain": [
              "<matplotlib.image.AxesImage at 0x7ff1f36d9ba8>"
            ]
          },
          "metadata": {
            "tags": []
          },
          "execution_count": 8
        },
        {
          "output_type": "display_data",
          "data": {
            "image/png": "[encoded data removed]",
            "text/plain": [
              "<Figure size 432x288 with 1 Axes>"
            ]
          },
          "metadata": {
            "tags": [],
            "needs_background": "light"
          }
        }
      ]
    },
    {
      "cell_type": "code",
      "metadata": {
        "id": "AB-YM3wNyKmg",
        "colab_type": "code",
        "outputId": "ff9e8e80-e491-4400-c1e5-3333f4c5c7cf",
        "colab": {
          "base_uri": "https://localhost:8080/",
          "height": 225
        }
      },
      "source": [
        "#Method_1 of alignment\n",
        "!wget http://dlib.net/files/shape_predictor_5_face_landmarks.dat.bz2\n",
        "!bunzip2 \"shape_predictor_5_face_landmarks.dat.bz2\""
      ],
      "execution_count": 0,
      "outputs": [
        {
          "output_type": "stream",
          "text": [
            "--2020-06-15 05:17:43--  http://dlib.net/files/shape_predictor_5_face_landmarks.dat.bz2\n",
            "Resolving dlib.net (dlib.net)... 107.180.26.78\n",
            "Connecting to dlib.net (dlib.net)|107.180.26.78|:80... connected.\n",
            "HTTP request sent, awaiting response... 200 OK\n",
            "Length: 5706710 (5.4M)\n",
            "Saving to: ‘shape_predictor_5_face_landmarks.dat.bz2’\n",
            "\n",
            "shape_predictor_5_f 100%[===================>]   5.44M  2.84MB/s    in 1.9s    \n",
            "\n",
            "2020-06-15 05:17:45 (2.84 MB/s) - ‘shape_predictor_5_face_landmarks.dat.bz2’ saved [5706710/5706710]\n",
            "\n",
            "bunzip2: Output file shape_predictor_5_face_landmarks.dat already exists.\n"
          ],
          "name": "stdout"
        }
      ]
    },
    {
      "cell_type": "code",
      "metadata": {
        "id": "gIwiPnuQ6wo6",
        "colab_type": "code",
        "colab": {}
      },
      "source": [
        "detector = dlib.get_frontal_face_detector()\n",
        "predictor = dlib.shape_predictor('shape_predictor_5_face_landmarks.dat')"
      ],
      "execution_count": 0,
      "outputs": []
    },
    {
      "cell_type": "code",
      "metadata": {
        "id": "UEjpvC2y7b5X",
        "colab_type": "code",
        "colab": {}
      },
      "source": [
        "img = cv2.imread(path_lists[0])\n",
        "gray = cv2.cvtColor(img,cv2.COLOR_BGR2GRAY)\n",
        "rects = detector(gray,0)\n",
        "if len(rects)>0:\n",
        "  for rect in rects:\n",
        "    x= rect.left()\n",
        "    y = rect.top()\n",
        "    w = rect.right()\n",
        "    h = rect.bottom()\n",
        "    shape = predictor(gray,rect)"
      ],
      "execution_count": 0,
      "outputs": []
    },
    {
      "cell_type": "code",
      "metadata": {
        "id": "akJA1Nej8g8Z",
        "colab_type": "code",
        "colab": {}
      },
      "source": [
        "def shape_to_normal(shape):\n",
        "  shape_normal = []\n",
        "  for i in range(0,5):\n",
        "    shape_normal.append((i,(shape.part(i).x,shape.part(i).y)))\n",
        "  return shape_normal\n",
        "def get_eyes_nose_dlib(shape):\n",
        "  nose = shape[4][1]\n",
        "  left_eye_x = int(shape[3][1][0] + shape[2][1][0])//2\n",
        "  left_eye_y = int(shape[3][1][1] + shape[2][1][1])//2\n",
        "  right_eye_x = int(shape[1][1][0] + shape[0][1][0])//2\n",
        "  right_eye_y = int(shape[1][1][1] + shape[0][1][1])//2\n",
        "  return nose,(left_eye_x,left_eye_y),(right_eye_x,right_eye_y) \n"
      ],
      "execution_count": 0,
      "outputs": []
    },
    {
      "cell_type": "code",
      "metadata": {
        "id": "7xKH-zWu-TqS",
        "colab_type": "code",
        "outputId": "632ac122-7bd5-416f-879c-c796f6a79189",
        "colab": {
          "base_uri": "https://localhost:8080/",
          "height": 235
        }
      },
      "source": [
        "shape = shape_to_normal(shape)\n",
        "nose,left_eye,right_eye = get_eyes_nose_dlib(shape)\n",
        "\n",
        "center_of_forehead = ((left_eye[0]+right_eye[0])//2,(left_eye[1]+right_eye[1])//2)\n",
        "center_pred = (int((x+w)/2),int((y+h)/2))"
      ],
      "execution_count": 0,
      "outputs": [
        {
          "output_type": "error",
          "ename": "NameError",
          "evalue": "ignored",
          "traceback": [
            "\u001b[0;31m---------------------------------------------------------------------------\u001b[0m",
            "\u001b[0;31mNameError\u001b[0m                                 Traceback (most recent call last)",
            "\u001b[0;32m<ipython-input-22-f13909a1f47b>\u001b[0m in \u001b[0;36m<module>\u001b[0;34m()\u001b[0m\n\u001b[0;32m----> 1\u001b[0;31m \u001b[0mshape\u001b[0m \u001b[0;34m=\u001b[0m \u001b[0mshape_to_normal\u001b[0m\u001b[0;34m(\u001b[0m\u001b[0mshape\u001b[0m\u001b[0;34m)\u001b[0m\u001b[0;34m\u001b[0m\u001b[0;34m\u001b[0m\u001b[0m\n\u001b[0m\u001b[1;32m      2\u001b[0m \u001b[0mnose\u001b[0m\u001b[0;34m,\u001b[0m\u001b[0mleft_eye\u001b[0m\u001b[0;34m,\u001b[0m\u001b[0mright_eye\u001b[0m \u001b[0;34m=\u001b[0m \u001b[0mget_eyes_nose_dlib\u001b[0m\u001b[0;34m(\u001b[0m\u001b[0mshape\u001b[0m\u001b[0;34m)\u001b[0m\u001b[0;34m\u001b[0m\u001b[0;34m\u001b[0m\u001b[0m\n\u001b[1;32m      3\u001b[0m \u001b[0;34m\u001b[0m\u001b[0m\n\u001b[1;32m      4\u001b[0m \u001b[0mcenter_of_forehead\u001b[0m \u001b[0;34m=\u001b[0m \u001b[0;34m(\u001b[0m\u001b[0;34m(\u001b[0m\u001b[0mleft_eye\u001b[0m\u001b[0;34m[\u001b[0m\u001b[0;36m0\u001b[0m\u001b[0;34m]\u001b[0m\u001b[0;34m+\u001b[0m\u001b[0mright_eye\u001b[0m\u001b[0;34m[\u001b[0m\u001b[0;36m0\u001b[0m\u001b[0;34m]\u001b[0m\u001b[0;34m)\u001b[0m\u001b[0;34m//\u001b[0m\u001b[0;36m2\u001b[0m\u001b[0;34m,\u001b[0m\u001b[0;34m(\u001b[0m\u001b[0mleft_eye\u001b[0m\u001b[0;34m[\u001b[0m\u001b[0;36m1\u001b[0m\u001b[0;34m]\u001b[0m\u001b[0;34m+\u001b[0m\u001b[0mright_eye\u001b[0m\u001b[0;34m[\u001b[0m\u001b[0;36m1\u001b[0m\u001b[0;34m]\u001b[0m\u001b[0;34m)\u001b[0m\u001b[0;34m//\u001b[0m\u001b[0;36m2\u001b[0m\u001b[0;34m)\u001b[0m\u001b[0;34m\u001b[0m\u001b[0;34m\u001b[0m\u001b[0m\n\u001b[1;32m      5\u001b[0m \u001b[0mcenter_pred\u001b[0m \u001b[0;34m=\u001b[0m \u001b[0;34m(\u001b[0m\u001b[0mint\u001b[0m\u001b[0;34m(\u001b[0m\u001b[0;34m(\u001b[0m\u001b[0mx\u001b[0m\u001b[0;34m+\u001b[0m\u001b[0mw\u001b[0m\u001b[0;34m)\u001b[0m\u001b[0;34m/\u001b[0m\u001b[0;36m2\u001b[0m\u001b[0;34m)\u001b[0m\u001b[0;34m,\u001b[0m\u001b[0mint\u001b[0m\u001b[0;34m(\u001b[0m\u001b[0;34m(\u001b[0m\u001b[0my\u001b[0m\u001b[0;34m+\u001b[0m\u001b[0mh\u001b[0m\u001b[0;34m)\u001b[0m\u001b[0;34m/\u001b[0m\u001b[0;36m2\u001b[0m\u001b[0;34m)\u001b[0m\u001b[0;34m)\u001b[0m\u001b[0;34m\u001b[0m\u001b[0;34m\u001b[0m\u001b[0m\n",
            "\u001b[0;31mNameError\u001b[0m: name 'shape' is not defined"
          ]
        }
      ]
    },
    {
      "cell_type": "code",
      "metadata": {
        "id": "5du7i_vZXXjm",
        "colab_type": "code",
        "outputId": "136de216-dcbc-4fcf-96ea-4235cd28af87",
        "colab": {
          "base_uri": "https://localhost:8080/",
          "height": 235
        }
      },
      "source": [
        "#Method_2 of alignment\n",
        "face_cascade = cv2.CascadeClassifier('haarcascade_frontalface_default.xml')\n",
        "img = cv2.imread(path_lists[0])\n",
        "new_faces = face_cascade.detectMultiScale(img,1.3,5)\n",
        "face_x,face_y,face_w,face_h = new_faces[0]\n",
        "img = img[int(face_y):int(face_y + face_h),int(face_x):int(face_x + face_w)]\n",
        "gray = cv2.cvtColor(img,cv2.COLOR_BGR2GRAY)\n",
        "plt.imshow(gray)\n",
        "img_raw = gray.copy()"
      ],
      "execution_count": 0,
      "outputs": [
        {
          "output_type": "error",
          "ename": "IndexError",
          "evalue": "ignored",
          "traceback": [
            "\u001b[0;31m---------------------------------------------------------------------------\u001b[0m",
            "\u001b[0;31mIndexError\u001b[0m                                Traceback (most recent call last)",
            "\u001b[0;32m<ipython-input-14-ce6578cab80e>\u001b[0m in \u001b[0;36m<module>\u001b[0;34m()\u001b[0m\n\u001b[1;32m      2\u001b[0m \u001b[0mimg\u001b[0m \u001b[0;34m=\u001b[0m \u001b[0mcv2\u001b[0m\u001b[0;34m.\u001b[0m\u001b[0mimread\u001b[0m\u001b[0;34m(\u001b[0m\u001b[0mpath_lists\u001b[0m\u001b[0;34m[\u001b[0m\u001b[0;36m0\u001b[0m\u001b[0;34m]\u001b[0m\u001b[0;34m)\u001b[0m\u001b[0;34m\u001b[0m\u001b[0;34m\u001b[0m\u001b[0m\n\u001b[1;32m      3\u001b[0m \u001b[0mnew_faces\u001b[0m \u001b[0;34m=\u001b[0m \u001b[0mface_cascade\u001b[0m\u001b[0;34m.\u001b[0m\u001b[0mdetectMultiScale\u001b[0m\u001b[0;34m(\u001b[0m\u001b[0mimg\u001b[0m\u001b[0;34m,\u001b[0m\u001b[0;36m1.3\u001b[0m\u001b[0;34m,\u001b[0m\u001b[0;36m5\u001b[0m\u001b[0;34m)\u001b[0m\u001b[0;34m\u001b[0m\u001b[0;34m\u001b[0m\u001b[0m\n\u001b[0;32m----> 4\u001b[0;31m \u001b[0mface_x\u001b[0m\u001b[0;34m,\u001b[0m\u001b[0mface_y\u001b[0m\u001b[0;34m,\u001b[0m\u001b[0mface_w\u001b[0m\u001b[0;34m,\u001b[0m\u001b[0mface_h\u001b[0m \u001b[0;34m=\u001b[0m \u001b[0mnew_faces\u001b[0m\u001b[0;34m[\u001b[0m\u001b[0;36m0\u001b[0m\u001b[0;34m]\u001b[0m\u001b[0;34m\u001b[0m\u001b[0;34m\u001b[0m\u001b[0m\n\u001b[0m\u001b[1;32m      5\u001b[0m \u001b[0mimg\u001b[0m \u001b[0;34m=\u001b[0m \u001b[0mimg\u001b[0m\u001b[0;34m[\u001b[0m\u001b[0mint\u001b[0m\u001b[0;34m(\u001b[0m\u001b[0mface_y\u001b[0m\u001b[0;34m)\u001b[0m\u001b[0;34m:\u001b[0m\u001b[0mint\u001b[0m\u001b[0;34m(\u001b[0m\u001b[0mface_y\u001b[0m \u001b[0;34m+\u001b[0m \u001b[0mface_h\u001b[0m\u001b[0;34m)\u001b[0m\u001b[0;34m,\u001b[0m\u001b[0mint\u001b[0m\u001b[0;34m(\u001b[0m\u001b[0mface_x\u001b[0m\u001b[0;34m)\u001b[0m\u001b[0;34m:\u001b[0m\u001b[0mint\u001b[0m\u001b[0;34m(\u001b[0m\u001b[0mface_x\u001b[0m \u001b[0;34m+\u001b[0m \u001b[0mface_w\u001b[0m\u001b[0;34m)\u001b[0m\u001b[0;34m]\u001b[0m\u001b[0;34m\u001b[0m\u001b[0;34m\u001b[0m\u001b[0m\n\u001b[1;32m      6\u001b[0m \u001b[0mgray\u001b[0m \u001b[0;34m=\u001b[0m \u001b[0mcv2\u001b[0m\u001b[0;34m.\u001b[0m\u001b[0mcvtColor\u001b[0m\u001b[0;34m(\u001b[0m\u001b[0mimg\u001b[0m\u001b[0;34m,\u001b[0m\u001b[0mcv2\u001b[0m\u001b[0;34m.\u001b[0m\u001b[0mCOLOR_BGR2GRAY\u001b[0m\u001b[0;34m)\u001b[0m\u001b[0;34m\u001b[0m\u001b[0;34m\u001b[0m\u001b[0m\n",
            "\u001b[0;31mIndexError\u001b[0m: tuple index out of range"
          ]
        }
      ]
    }
  ]
}