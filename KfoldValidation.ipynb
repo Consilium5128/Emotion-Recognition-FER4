{
  "nbformat": 4,
  "nbformat_minor": 0,
  "metadata": {
    "colab": {
      "name": "KfoldValidation.ipynb",
      "provenance": [],
      "collapsed_sections": []
    },
    "kernelspec": {
      "name": "python3",
      "display_name": "Python 3"
    }
  },
  "cells": [
    {
      "cell_type": "code",
      "metadata": {
        "id": "lJl9bEGTrDPi",
        "colab_type": "code",
        "colab": {}
      },
      "source": [
        "import tensorflow as tf\n",
        "import numpy as np\n",
        "import matplotlib.pyplot as plt\n",
        "from sklearn.model_selection import KFold\n",
        "from tensorflow.keras.models import Sequential\n",
        "from tensorflow.keras.layers import Dense, Dropout, Flatten, Activation"
      ],
      "execution_count": 12,
      "outputs": []
    },
    {
      "cell_type": "code",
      "metadata": {
        "id": "sijP9kzJA_dq",
        "colab_type": "code",
        "colab": {}
      },
      "source": [
        "def plot_history(history):\n",
        "  # function to plot accuracy vs epoch\n",
        "\n",
        "  plt.plot(history.history['accuracy'], label='accuracy')\n",
        "  plt.plot(history.history['val_accuracy'], label = 'val_accuracy')\n",
        "  plt.xlabel('Epoch')\n",
        "  plt.ylabel('Accuracy')\n",
        "  plt.legend(loc='lower right')"
      ],
      "execution_count": 13,
      "outputs": []
    },
    {
      "cell_type": "code",
      "metadata": {
        "id": "IRm4V7B-y2fR",
        "colab_type": "code",
        "colab": {
          "base_uri": "https://localhost:8080/",
          "height": 391
        },
        "outputId": "f894aa04-fac8-4a59-b755-bb6fa32d96fb"
      },
      "source": [
        "#CNN TO BE USED FOR VALIDATION OF FACE CROPPING METHODS\n",
        "\n",
        "model=tf.keras.models.Sequential()\n",
        "model.add(tf.keras.layers.Conv2D(32, (5,5 ), activation='relu', input_shape=(32, 32, 28)))\n",
        "model.add(tf.keras.layers.MaxPooling2D((2, 2),strides=2))\n",
        "model.add(tf.keras.layers.Conv2D(64, (5, 5), activation='relu'))\n",
        "model.add(tf.keras.layers.MaxPooling2D((2, 2),strides=2))\n",
        "model.add(tf.keras.layers.Flatten())\n",
        "model.add(tf.keras.layers.Dense(0)) #HIDDEN FULLY CONNECTED LAYER\n",
        "model.add(tf.keras.layers.Dense(6,activation=tf.nn.softmax))\n",
        "model.summary()"
      ],
      "execution_count": 14,
      "outputs": [
        {
          "output_type": "stream",
          "text": [
            "Model: \"sequential\"\n",
            "_________________________________________________________________\n",
            "Layer (type)                 Output Shape              Param #   \n",
            "=================================================================\n",
            "conv2d (Conv2D)              (None, 28, 28, 32)        22432     \n",
            "_________________________________________________________________\n",
            "max_pooling2d (MaxPooling2D) (None, 14, 14, 32)        0         \n",
            "_________________________________________________________________\n",
            "conv2d_1 (Conv2D)            (None, 10, 10, 64)        51264     \n",
            "_________________________________________________________________\n",
            "max_pooling2d_1 (MaxPooling2 (None, 5, 5, 64)          0         \n",
            "_________________________________________________________________\n",
            "flatten (Flatten)            (None, 1600)              0         \n",
            "_________________________________________________________________\n",
            "dense (Dense)                (None, 0)                 0         \n",
            "_________________________________________________________________\n",
            "dense_1 (Dense)              (None, 6)                 6         \n",
            "=================================================================\n",
            "Total params: 73,702\n",
            "Trainable params: 73,702\n",
            "Non-trainable params: 0\n",
            "_________________________________________________________________\n"
          ],
          "name": "stdout"
        }
      ]
    },
    {
      "cell_type": "code",
      "metadata": {
        "id": "eh8Hg4hx5u04",
        "colab_type": "code",
        "colab": {}
      },
      "source": [
        "#FOR SELECTION OF NUMBER OF NEURONS IN FULLY CONNECTED LAYER, ERROR MEASUREMENT HAS TO BE DONE FOR 4 VALUES : 0,256,512,1024. \n",
        "#THE CNN FOR THESE CAN BE OBTAINED BY VARYING THE PARAMETER IN ABOVE MODEL"
      ],
      "execution_count": null,
      "outputs": []
    },
    {
      "cell_type": "code",
      "metadata": {
        "id": "Io3xG0Df2ARE",
        "colab_type": "code",
        "colab": {
          "base_uri": "https://localhost:8080/",
          "height": 68
        },
        "outputId": "bfd9c712-df5f-4e76-a3f2-9975d5bfe10c"
      },
      "source": [
        "#code to be completed when preprocessing has been done\n",
        "#K-FOLD CROSS VALIDATION\n",
        "n_splits=3 #replace 3 by 10\n",
        "kf = KFold(n_splits=3,shuffle=True, random_state=None)#put n_splits=10 , we've to do 10 fold cross validation\n",
        "#replace X by input data and Y by input labels\n",
        "X=[1,2,3,4,5,6,7,8,9,-1,-2,-3,-4,-5,-6,-7,-8,-9] #replace this by input dataset\n",
        "Y=[1,1,1,1,1,1,1,1,1,0,0,0,0,0,0,0,0,0] \n",
        "X=np.array(X)\n",
        "Y=np.array(Y)         #replace this by labels for input dataset , i.e the actual output w.r.t to the input \n",
        "k=X.shape[0]\n",
        "n=k/n_splits\n",
        "Xtr=np.zeros(int(n*(n_splits-1)))\n",
        "Ytr=np.zeros(int(n*(n_splits-1)))\n",
        "Xtst=np.zeros(int(n))\n",
        "Ytst=np.zeros(int(n))\n",
        "#Xtr=[]\n",
        "#Ytr=[]\n",
        "#Xtst=[]\n",
        "#Ytst=[]\n",
        "#X=np.array(X)\n",
        "#Y=np.array(Y)\n",
        "for train_index, test_index in kf.split(X):\n",
        "        #print(\"TRAIN INDEX:\", train_index,'\\n', \"TEST INDEX:\", test_index,'\\n')\n",
        "        #np.array(X)[indices.astype(int)]\n",
        "        #np.array(Y)[indices.astype(int)]\n",
        "        X_train, X_test = X[train_index], X[test_index]\n",
        "        Y_train,Y_test=Y[train_index],Y[test_index]\n",
        "\n",
        "        #X_train=X_train.tolist()\n",
        "        #X_test=X_test.tolist()\n",
        "        #Y_train=Y_train.tolist()\n",
        "        #Y_test=Y_test.tolist()\n",
        "\n",
        "        Xtr=np.vstack((Xtr,X_train))\n",
        "        Ytr=np.vstack((Ytr,Y_train))\n",
        "        Xtst=np.vstack((Xtst,X_test))\n",
        "        Ytst=np.vstack((Ytst,Y_test))\n",
        "        print(\"randomtexttoseeifloopisworking\")\n",
        "\n",
        "        #this loop will run n_splits times, at this point the training data is stored in Xtr and Ytr. Testing data in Xtst and Ytst\n",
        "        #later , you can iterate row-wise through Xtr,Ytr for training and Xtst,Ytst for testing the neural network\n",
        "        #therefore , neural network will be trained n_splits times.\n",
        "        \n",
        "        #print(\" TR DATA :\\n\", X_train) \n",
        "        #print(\" TST DATA:\\n\", X_test)\n",
        "        #print(\"TR LABEL:\\n\",Y_train)\n",
        "        #print(\" TST LABEL:\\n\", Y_test)\n",
        "#this data will be used for the validation\n",
        "\n"
      ],
      "execution_count": 33,
      "outputs": [
        {
          "output_type": "stream",
          "text": [
            "randomtexttoseeifloopisworking\n",
            "randomtexttoseeifloopisworking\n",
            "randomtexttoseeifloopisworking\n"
          ],
          "name": "stdout"
        }
      ]
    },
    {
      "cell_type": "code",
      "metadata": {
        "id": "dEuPJ6EHXAka",
        "colab_type": "code",
        "colab": {}
      },
      "source": [
        "Xtr=np.delete(Xtr,0,axis=0)\n",
        "Ytr=np.delete(Ytr,0,axis=0)\n",
        "Xtst=np.delete(Xtst,0,axis=0)\n",
        "Ytst=np.delete(Ytst,0,axis=0)"
      ],
      "execution_count": 34,
      "outputs": []
    },
    {
      "cell_type": "code",
      "metadata": {
        "id": "QpwZUtD9XTIA",
        "colab_type": "code",
        "colab": {
          "base_uri": "https://localhost:8080/",
          "height": 357
        },
        "outputId": "fef54b6a-0549-4e58-8e40-00f9452678ee"
      },
      "source": [
        "print(\"xtr: \\n\",Xtr,\"\\n\")\n",
        "print(\"ytr: \\n\",Ytr,\"\\n\")\n",
        "print(\"xtst: \\n\",Xtst,\"\\n\")\n",
        "print(\"ytst: \\n\",Ytst,\"\\n\")"
      ],
      "execution_count": 35,
      "outputs": [
        {
          "output_type": "stream",
          "text": [
            "xtr: \n",
            " [[ 1.  2.  3.  4.  5. -1. -2. -3. -5. -6. -7. -8.]\n",
            " [ 3.  4.  6.  7.  8.  9. -1. -2. -3. -4. -5. -9.]\n",
            " [ 1.  2.  5.  6.  7.  8.  9. -4. -6. -7. -8. -9.]] \n",
            "\n",
            "ytr: \n",
            " [[1. 1. 1. 1. 1. 0. 0. 0. 0. 0. 0. 0.]\n",
            " [1. 1. 1. 1. 1. 1. 0. 0. 0. 0. 0. 0.]\n",
            " [1. 1. 1. 1. 1. 1. 1. 0. 0. 0. 0. 0.]] \n",
            "\n",
            "xtst: \n",
            " [[ 6.  7.  8.  9. -4. -9.]\n",
            " [ 1.  2.  5. -6. -7. -8.]\n",
            " [ 3.  4. -1. -2. -3. -5.]] \n",
            "\n",
            "ytst: \n",
            " [[1. 1. 1. 1. 0. 0.]\n",
            " [1. 1. 1. 0. 0. 0.]\n",
            " [1. 1. 0. 0. 0. 0.]] \n",
            "\n"
          ],
          "name": "stdout"
        }
      ]
    },
    {
      "cell_type": "code",
      "metadata": {
        "id": "OguSQVX_JOBm",
        "colab_type": "code",
        "colab": {}
      },
      "source": [
        "Xtr=Xtr.tolist()\n",
        "Ytr=Ytr.tolist()\n",
        "Xtst=Xtst.tolist()\n",
        "Ytst=Ytst.tolist()\n",
        "#lists are ready now"
      ],
      "execution_count": 36,
      "outputs": []
    },
    {
      "cell_type": "code",
      "metadata": {
        "id": "dWEuS1kHJlhK",
        "colab_type": "code",
        "colab": {
          "base_uri": "https://localhost:8080/",
          "height": 241
        },
        "outputId": "5023deb3-f714-43b1-f89f-9a7cb90a39d8"
      },
      "source": [
        "print(\"xtr: \\n\",Xtr,\"\\n\")\n",
        "print(\"ytr: \\n\",Ytr,\"\\n\")\n",
        "print(\"xtst: \\n\",Xtst,\"\\n\")\n",
        "print(\"ytst: \\n\",Ytst,\"\\n\")"
      ],
      "execution_count": 37,
      "outputs": [
        {
          "output_type": "stream",
          "text": [
            "xtr: \n",
            " [[1.0, 2.0, 3.0, 4.0, 5.0, -1.0, -2.0, -3.0, -5.0, -6.0, -7.0, -8.0], [3.0, 4.0, 6.0, 7.0, 8.0, 9.0, -1.0, -2.0, -3.0, -4.0, -5.0, -9.0], [1.0, 2.0, 5.0, 6.0, 7.0, 8.0, 9.0, -4.0, -6.0, -7.0, -8.0, -9.0]] \n",
            "\n",
            "ytr: \n",
            " [[1.0, 1.0, 1.0, 1.0, 1.0, 0.0, 0.0, 0.0, 0.0, 0.0, 0.0, 0.0], [1.0, 1.0, 1.0, 1.0, 1.0, 1.0, 0.0, 0.0, 0.0, 0.0, 0.0, 0.0], [1.0, 1.0, 1.0, 1.0, 1.0, 1.0, 1.0, 0.0, 0.0, 0.0, 0.0, 0.0]] \n",
            "\n",
            "xtst: \n",
            " [[6.0, 7.0, 8.0, 9.0, -4.0, -9.0], [1.0, 2.0, 5.0, -6.0, -7.0, -8.0], [3.0, 4.0, -1.0, -2.0, -3.0, -5.0]] \n",
            "\n",
            "ytst: \n",
            " [[1.0, 1.0, 1.0, 1.0, 0.0, 0.0], [1.0, 1.0, 1.0, 0.0, 0.0, 0.0], [1.0, 1.0, 0.0, 0.0, 0.0, 0.0]] \n",
            "\n"
          ],
          "name": "stdout"
        }
      ]
    },
    {
      "cell_type": "code",
      "metadata": {
        "id": "uVNwigsqYQKG",
        "colab_type": "code",
        "colab": {}
      },
      "source": [
        "#Now, each row of Xtr and Ytr correspond to the data to be used for training the neural network. The neural network will have to be trained \n",
        "#put code for training neural network and checking accuracy here , preferably in a loop\n",
        "for i in range(n_splits):\n",
        "  #training data=Xtr[i] and Ytr[i]\n",
        "  #testing data = Xtst[i]and Ytst[i]\n",
        "  #put rest of the code here.\n",
        "\n",
        "\n",
        "\n",
        "  \n"
      ],
      "execution_count": null,
      "outputs": []
    },
    {
      "cell_type": "code",
      "metadata": {
        "id": "j0zdNLQcAXiz",
        "colab_type": "code",
        "colab": {}
      },
      "source": [
        "#validation for face cropping and random rotation angle can be done only after preprocessing "
      ],
      "execution_count": null,
      "outputs": []
    }
  ]
}