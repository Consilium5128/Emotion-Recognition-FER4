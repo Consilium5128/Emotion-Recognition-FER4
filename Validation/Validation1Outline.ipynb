{
  "nbformat": 4,
  "nbformat_minor": 0,
  "metadata": {
    "colab": {
      "name": "Validation1Outline.ipynb",
      "provenance": [],
      "collapsed_sections": []
    },
    "kernelspec": {
      "name": "python3",
      "display_name": "Python 3"
    }
  },
  "cells": [
    {
      "cell_type": "code",
      "metadata": {
        "id": "lJl9bEGTrDPi",
        "colab_type": "code",
        "colab": {}
      },
      "source": [
        "import tensorflow as tf\n",
        "import numpy as np\n",
        "import matplotlib.pyplot as plt\n",
        "from sklearn.model_selection import KFold\n",
        "from tensorflow.keras.models import Sequential\n",
        "from tensorflow.keras.layers import Dense, Dropout, Flatten, Activation"
      ],
      "execution_count": 0,
      "outputs": []
    },
    {
      "cell_type": "code",
      "metadata": {
        "id": "sijP9kzJA_dq",
        "colab_type": "code",
        "colab": {}
      },
      "source": [
        "def plot_history(history):\n",
        "  # function to plot accuracy vs epoch\n",
        "\n",
        "  plt.plot(history.history['accuracy'], label='accuracy')\n",
        "  plt.plot(history.history['val_accuracy'], label = 'val_accuracy')\n",
        "  plt.xlabel('Epoch')\n",
        "  plt.ylabel('Accuracy')\n",
        "  plt.legend(loc='lower right')"
      ],
      "execution_count": 0,
      "outputs": []
    },
    {
      "cell_type": "code",
      "metadata": {
        "id": "IRm4V7B-y2fR",
        "colab_type": "code",
        "colab": {}
      },
      "source": [
        "#CNN TO BE USED FOR VALIDATION OF FACE CROPPING METHODS\n",
        "\n",
        "model=tf.keras.models.Sequential()\n",
        "model.add(tf.keras.layers.Conv2D(32, (5,5 ), activation='relu', input_shape=(32, 32, 28)))\n",
        "model.add(tf.keras.layers.MaxPooling2D((2, 2),strides=2))\n",
        "model.add(tf.keras.layers.Conv2D(64, (5, 5), activation='relu'))\n",
        "model.add(tf.keras.layers.MaxPooling2D((2, 2),strides=2))\n",
        "model.add(tf.keras.layers.Flatten())\n",
        "model.add(tf.keras.layers.Dense(0)) #HIDDEN FULLY CONNECTED LAYER\n",
        "model.add(tf.keras.layers.Dense(6,activation=tf.nn.softmax))\n",
        "model.summary()"
      ],
      "execution_count": 0,
      "outputs": []
    },
    {
      "cell_type": "code",
      "metadata": {
        "id": "eh8Hg4hx5u04",
        "colab_type": "code",
        "colab": {}
      },
      "source": [
        "#FOR SELECTION OF NUMBER OF NEURONS IN FULLY CONNECTED LAYER, ERROR MEASUREMENT HAS TO BE DONE FOR 4 VALUES : 0,256,512,1024. \n",
        "#THE CNN FOR THESE CAN BE OBTAINED BY VARYING THE PARAMETER IN ABOVE MODEL"
      ],
      "execution_count": 0,
      "outputs": []
    },
    {
      "cell_type": "code",
      "metadata": {
        "id": "Io3xG0Df2ARE",
        "colab_type": "code",
        "colab": {
          "base_uri": "https://localhost:8080/",
          "height": 255
        },
        "outputId": "f283ef77-682d-457f-f753-a91e1f18bbd3"
      },
      "source": [
        "#code to be completed when preprocessing has been done\n",
        "#K-FOLD CROSS VALIDATION\n",
        "kf = KFold(n_splits=2,shuffle=True, random_state=None)\n",
        "X = np.array([[1, 2], [3, 4], [5, 6], [7, 8]]) #to be replaced by input data\n",
        "\n",
        "for train_index, test_index in kf.split(X):\n",
        "        print(\"TRAIN:\", train_index, \"TEST:\", test_index)\n",
        "        X_train, X_test = X[train_index], X[test_index]\n",
        "        print(\" tr data :\\n\", X_train) \n",
        "        print(\" tst data:\\n\", X_test)\n",
        "#this data will be used for the validation\n",
        "\n"
      ],
      "execution_count": 13,
      "outputs": [
        {
          "output_type": "stream",
          "text": [
            "TRAIN: [2 3] TEST: [0 1]\n",
            " tr data :\n",
            " [[5 6]\n",
            " [7 8]]\n",
            " tst data:\n",
            " [[1 2]\n",
            " [3 4]]\n",
            "TRAIN: [0 1] TEST: [2 3]\n",
            " tr data :\n",
            " [[1 2]\n",
            " [3 4]]\n",
            " tst data:\n",
            " [[5 6]\n",
            " [7 8]]\n"
          ],
          "name": "stdout"
        }
      ]
    },
    {
      "cell_type": "code",
      "metadata": {
        "id": "j0zdNLQcAXiz",
        "colab_type": "code",
        "colab": {}
      },
      "source": [
        "#model.compile(optimizer = tf.keras.optimizers.momentum (lr=lr),loss = 'sparse_categorical_crossentropy',metrics=['accuracy'])\n",
        "#history = model.fit(x_train, y_train, epochs=10,validation_data=(x_test, y_test))\n",
        "#plot_history(history)\n",
        "#to be done for all 4 values of neurons of fully connected layer and face cropping methods"
      ],
      "execution_count": 0,
      "outputs": []
    }
  ]
}
